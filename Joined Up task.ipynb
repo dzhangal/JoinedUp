{
 "cells": [
  {
   "cell_type": "code",
   "execution_count": 280,
   "metadata": {},
   "outputs": [
    {
     "name": "stdout",
     "output_type": "stream",
     "text": [
      "Pretty printing has been turned OFF\n"
     ]
    }
   ],
   "source": [
    "#from flask import Flask\n",
    "#app = Flask(__name__)\n",
    "\n",
    "#@app.route(\"/\")\n",
    "#def hello():\n",
    "    #return \"JoinedUp\"\n",
    "\n",
    "#if __name__ == \"__main__\":\n",
    "    #app.run()\n",
    "    \n"
   ]
  },
  {
   "cell_type": "code",
   "execution_count": 434,
   "metadata": {},
   "outputs": [
    {
     "name": "stdout",
     "output_type": "stream",
     "text": [
      "Your tracking reference is: GBDE1231239090\n",
      "we can insure this\n",
      "you have requested insurance\n",
      "Your tracking reference is: GBDE1231239090\n",
      "18.517500000000002\n"
     ]
    }
   ],
   "source": [
    "import datetime\n",
    "import json\n",
    "\n",
    "request = { \n",
    "  \"sender\": [{\n",
    "    \"name\": \"Carole's Computers\",\n",
    "    \"street_address\": \"123 Castle Street\",\n",
    "    \"city\": \"Birmingham\",\n",
    "    \"country_code\": \"GB\"\n",
    "      }],\n",
    "  \"recipient\": [{\n",
    "    \"name\": \"Angela Schmidt\",\n",
    "    \"street_address\": \"123 Schloßstraße\",\n",
    "    \"city\": \"Berlin\",\n",
    "    \"country_code\": \"DE\"\n",
    "  }],\n",
    "  \"value\": 1234.50,\n",
    "  \"despatch_date\": \"2021-09-01\",\n",
    "  \"contents declaration\": \"Laptop\",\n",
    "  \"insurance_required\": 'true',\n",
    "  \"tracking_reference\": \"GBDE1231239090\"\n",
    " }\n",
    "\n",
    "\n",
    "with open('data.json', 'w') as file:\n",
    "    json.dump(request,file)\n",
    "\n",
    "with open('data.json', 'r') as file:\n",
    "    data = json.load(file)\n",
    "\n",
    "    #print(data)\n",
    "\n",
    "  \n",
    " \n",
    "class ID (object): \n",
    "    \n",
    "    def scan(ID):\n",
    "        ID = data['tracking_reference']\n",
    "        if ID in data['tracking_reference'] == data['tracking_reference']:\n",
    "            return print('Your tracking reference is:', ID)\n",
    "        else:\n",
    "            return print(title, 'No such tracking reference exists')\n",
    "\n",
    "order_search=ID.scan(\"GBDE1231239090\")        \n",
    "\n",
    "\n",
    "\n",
    "if data['value']< 10000:\n",
    "    print('we can insure this')\n",
    "else:\n",
    "    print('we cannot insure packages over £10,000')\n",
    "    \n",
    "\n",
    "if data['insurance_required'] == 'true':\n",
    "    print('you have requested insurance')\n",
    "else:\n",
    "    print('you have not requested insurance')\n",
    "\n",
    "\n",
    "def cost(int):\n",
    "    CostID = ID.scan('tracking_reference')\n",
    "    if country_code in data ['sender'] == 'GB'and country_code in data ['recipient'] == 'GB':\n",
    "        print(int / 100)\n",
    "    elif country_code in data['recipient'] == 'DE'or \"FR\"or \"NE\"or \"BE\":\n",
    "        print(int / 100 * 1.5)\n",
    "    else:\n",
    "        print(int / 100 *4)\n",
    "        \n",
    "cost(1234.50) \n",
    "\n",
    "\n"
   ]
  },
  {
   "cell_type": "code",
   "execution_count": null,
   "metadata": {},
   "outputs": [],
   "source": []
  },
  {
   "cell_type": "code",
   "execution_count": null,
   "metadata": {},
   "outputs": [],
   "source": []
  },
  {
   "cell_type": "code",
   "execution_count": null,
   "metadata": {},
   "outputs": [],
   "source": []
  },
  {
   "cell_type": "code",
   "execution_count": null,
   "metadata": {},
   "outputs": [],
   "source": []
  },
  {
   "cell_type": "code",
   "execution_count": null,
   "metadata": {},
   "outputs": [],
   "source": []
  }
 ],
 "metadata": {
  "kernelspec": {
   "display_name": "Python 3",
   "language": "python",
   "name": "python3"
  },
  "language_info": {
   "codemirror_mode": {
    "name": "ipython",
    "version": 3
   },
   "file_extension": ".py",
   "mimetype": "text/x-python",
   "name": "python",
   "nbconvert_exporter": "python",
   "pygments_lexer": "ipython3",
   "version": "3.8.5"
  }
 },
 "nbformat": 4,
 "nbformat_minor": 4
}
