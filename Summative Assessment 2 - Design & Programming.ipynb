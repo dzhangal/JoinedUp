{
 "cells": [
  {
   "cell_type": "markdown",
   "metadata": {},
   "source": [
    "# Summative Assignment 2 - Design and Programming<br>\n",
    "\n",
    "\n"
   ]
  },
  {
   "cell_type": "markdown",
   "metadata": {},
   "source": [
    "The first few cells in this exercise are me preparing the data files in order to carry out the tasks required for the assessment. I have left them in with annotations so you can see my entire working.\n",
    "\n",
    "If you wish to skip this then go to the markdown cell that is titled **Tasks 1,2,3,4**"
   ]
  },
  {
   "cell_type": "code",
   "execution_count": 4,
   "metadata": {},
   "outputs": [
    {
     "name": "stdout",
     "output_type": "stream",
     "text": [
      "ERROR: There was a problem creating the books dictionary\n",
      "Switch off the try-except block to understand more about the error\n",
      "{'1': {'Title': 'Fundamentals of Wavelets', 'Author': ' Jaideva Goswami', 'Genre': 'tech', 'SubGenre': 'signal_processing', 'Publisher': 'Wiley', 'Available': 'Yes', 'Reserved': 'No', 'ReservedID': []}, '2': {'Title': 'Data Smart', 'Author': ' John Foreman', 'Genre': 'tech', 'SubGenre': 'data_science', 'Publisher': 'Wiley', 'Available': 'Yes', 'Reserved': 'No', 'ReservedID': []}, '3': {'Title': 'God Created the Integers', 'Author': ' Stephen Hawking', 'Genre': 'tech', 'SubGenre': 'mathematics', 'Publisher': 'Penguin', 'Available': 'Yes', 'Reserved': 'No', 'ReservedID': []}, '4': {'Title': 'Superfreakonomics', 'Author': ' Stephen Dubner', 'Genre': 'science', 'SubGenre': 'economics', 'Publisher': 'HarperCollins', 'Available': 'Yes', 'Reserved': 'No', 'ReservedID': []}, '5': {'Title': 'Orientalism', 'Author': ' Edward Said', 'Genre': 'nonfiction', 'SubGenre': 'history', 'Publisher': 'Penguin', 'Available': 'Yes', 'Reserved': 'No', 'ReservedID': []}, '6': {'Title': ' The Nature of Statistical Learning Theory', 'Author': ' Vladimir Vapnik', 'Genre': 'tech', 'SubGenre': 'data_science', 'Publisher': 'Springer', 'Available': 'Yes', 'Reserved': 'No', 'ReservedID': []}, '7': {'Title': 'Integration of the Indian States', 'Author': ' V P Menon', 'Genre': 'nonfiction', 'SubGenre': 'history', 'Publisher': 'Orient Blackswan', 'Available': 'Yes', 'Reserved': 'No', 'ReservedID': []}, '8': {'Title': \" The Drunkard's Walk\", 'Author': ' Leonard Mlodinow', 'Genre': 'science', 'SubGenre': 'mathematics', 'Publisher': 'Penguin', 'Available': 'Yes', 'Reserved': 'No', 'ReservedID': []}, '9': {'Title': 'Image Processing & Mathematical Morphology', 'Author': ' Frank Shih', 'Genre': 'tech', 'SubGenre': 'signal_processing', 'Publisher': 'CRC', 'Available': 'Yes', 'Reserved': 'No', 'ReservedID': []}, '10': {'Title': 'How to Think Like Sherlock Holmes', 'Author': ' Maria Konnikova', 'Genre': 'nonfiction', 'SubGenre': 'psychology', 'Publisher': 'Penguin', 'Available': 'Yes', 'Reserved': 'No', 'ReservedID': []}, '11': {'Title': 'Data Scientists at Work', 'Author': 'Sebastian Gutierrez', 'Genre': 'tech', 'SubGenre': 'data_science', 'Publisher': 'Apress', 'Available': 'Yes', 'Reserved': 'No', 'ReservedID': []}, '12': {'Title': 'Slaughterhouse Five', 'Author': ' Kurt Vonnegut', 'Genre': 'fiction', 'SubGenre': 'classic', 'Publisher': 'Random House', 'Available': 'Yes', 'Reserved': 'No', 'ReservedID': []}, '13': {'Title': 'Birth of a Theorem', 'Author': ' Cedric Villani', 'Genre': 'science', 'SubGenre': 'mathematics', 'Publisher': 'Bodley Head', 'Available': 'Yes', 'Reserved': 'No', 'ReservedID': []}, '14': {'Title': 'Structure & Interpretation of Computer Programs', 'Author': ' Gerald Sussman', 'Genre': 'tech', 'SubGenre': 'computer_science', 'Publisher': 'MIT Press', 'Available': 'Yes', 'Reserved': 'No', 'ReservedID': []}, '15': {'Title': ' The Age of Wrath', 'Author': ' Abraham Eraly', 'Genre': 'nonfiction', 'SubGenre': 'history', 'Publisher': 'Penguin', 'Available': 'Yes', 'Reserved': 'No', 'ReservedID': []}, '16': {'Title': ' The Trial', 'Author': ' Frank Kafka', 'Genre': 'fiction', 'SubGenre': 'classic', 'Publisher': 'Random House', 'Available': 'Yes', 'Reserved': 'No', 'ReservedID': []}, '17': {'Title': \"Statistical Decision Theory'\", 'Author': ' John Pratt', 'Genre': 'tech', 'SubGenre': 'data_science', 'Publisher': 'MIT Press', 'Available': 'Yes', 'Reserved': 'No', 'ReservedID': []}, '18': {'Title': 'Data Mining Handbook', 'Author': ' Robert Nisbet', 'Genre': 'tech', 'SubGenre': 'data_science', 'Publisher': 'Apress', 'Available': 'Yes', 'Reserved': 'No', 'ReservedID': []}, '19': {'Title': ' The New Machiavelli', 'Author': ' H. G. Wells', 'Genre': 'fiction', 'SubGenre': 'novel', 'Publisher': 'Penguin', 'Available': 'Yes', 'Reserved': 'No', 'ReservedID': []}, '20': {'Title': 'Physics & Philosophy', 'Author': ' Werner Heisenberg', 'Genre': 'philosophy', 'SubGenre': 'science', 'Publisher': 'Penguin', 'Available': 'Yes', 'Reserved': 'No', 'ReservedID': []}, '21': {'Title': 'Making Software', 'Author': ' Andy Oram', 'Genre': 'tech', 'SubGenre': 'computer_science', 'Publisher': \"O'Reilly\", 'Available': 'Yes', 'Reserved': 'No', 'ReservedID': []}, '22': {'Title': ' Vol I Analysis', 'Author': ' Terence Tao', 'Genre': 'tech', 'SubGenre': 'mathematics', 'Publisher': 'HBA', 'Available': 'Yes', 'Reserved': 'No', 'ReservedID': []}, '23': {'Title': 'Machine Learning for Hackers', 'Author': ' Drew Conway', 'Genre': 'tech', 'SubGenre': 'data_science', 'Publisher': \"O'Reilly\", 'Available': 'Yes', 'Reserved': 'No', 'ReservedID': []}, '24': {'Title': ' The Signal and the Noise', 'Author': ' Nate Silver', 'Genre': 'tech', 'SubGenre': 'data_science', 'Publisher': 'Penguin', 'Available': 'Yes', 'Reserved': 'No', 'ReservedID': []}, '25': {'Title': 'Python for Data Analysis', 'Author': ' Wes McKinney', 'Genre': 'tech', 'SubGenre': 'data_science', 'Publisher': \"O'Reilly\", 'Available': 'Yes', 'Reserved': 'No', 'ReservedID': []}, '26': {'Title': 'Introduction to Algorithms', 'Author': ' Thomas Cormen', 'Genre': 'tech', 'SubGenre': 'computer_science', 'Publisher': 'MIT Press', 'Available': 'Yes', 'Reserved': 'No', 'ReservedID': []}, '27': {'Title': ' The Beautiful and the Damned', 'Author': ' Siddhartha Deb', 'Genre': 'nonfiction', 'SubGenre': 'history', 'Publisher': 'Penguin', 'Available': 'Yes', 'Reserved': 'No', 'ReservedID': []}, '28': {'Title': ' The Outsider', 'Author': ' Albert Camus', 'Genre': 'fiction', 'SubGenre': 'classic', 'Publisher': 'Penguin', 'Available': 'Yes', 'Reserved': 'No', 'ReservedID': []}, '29': {'Title': ' The Complete Sherlock Holmes Vol I', 'Author': ' Arthur Conan Doyle', 'Genre': 'fiction', 'SubGenre': 'classic', 'Publisher': 'Random House', 'Available': 'Yes', 'Reserved': 'No', 'ReservedID': []}, '30': {'Title': ' The Complete Sherlock Holmes Vol II', 'Author': ' Arthur Conan Doyle', 'Genre': 'fiction', 'SubGenre': 'classic', 'Publisher': 'Random House', 'Available': 'Yes', 'Reserved': 'No', 'ReservedID': []}, '31': {'Title': ' The Wealth of Nations', 'Author': ' Adam Smith', 'Genre': 'science', 'SubGenre': 'economics', 'Publisher': 'Random House', 'Available': 'Yes', 'Reserved': 'No', 'ReservedID': []}, '32': {'Title': ' The Pillars of the Earth', 'Author': ' Ken Follett', 'Genre': 'fiction', 'SubGenre': 'novel', 'Publisher': 'Random House', 'Available': 'Yes', 'Reserved': 'No', 'ReservedID': []}, '33': {'Title': 'Mein Kampf', 'Author': ' Adolf Hitler', 'Genre': 'nonfiction', 'SubGenre': 'autobiography', 'Publisher': 'Rupa', 'Available': 'Yes', 'Reserved': 'No', 'ReservedID': []}, '34': {'Title': ' The Tao of Physics', 'Author': ' Fritjof Capra', 'Genre': 'science', 'SubGenre': 'physics', 'Publisher': 'Penguin', 'Available': 'Yes', 'Reserved': 'No', 'ReservedID': []}, '35': {'Title': \"Surely You're Joking Mr Feynman\", 'Author': ' Richard Feynman', 'Genre': 'science', 'SubGenre': 'physics', 'Publisher': 'Random House', 'Available': 'Yes', 'Reserved': 'No', 'ReservedID': []}, '36': {'Title': ' A Farewell to Arms', 'Author': ' Ernest Hemingway', 'Genre': 'fiction', 'SubGenre': 'classic', 'Publisher': 'Rupa', 'Available': 'Yes', 'Reserved': 'No', 'ReservedID': []}, '37': {'Title': ' The Veteran', 'Author': ' Frederick Forsyth', 'Genre': 'fiction', 'SubGenre': 'novel', 'Publisher': 'Transworld', 'Available': 'Yes', 'Reserved': 'No', 'ReservedID': []}, '38': {'Title': 'False Impressions', 'Author': ' Jeffery Archer', 'Genre': 'fiction', 'SubGenre': 'novel', 'Publisher': 'Pan', 'Available': 'Yes', 'Reserved': 'No', 'ReservedID': []}, '39': {'Title': ' The Last Lecture', 'Author': ' Randy Pausch', 'Genre': 'nonfiction', 'SubGenre': 'autobiography', 'Publisher': 'Hyperion', 'Available': 'Yes', 'Reserved': 'No', 'ReservedID': []}, '40': {'Title': 'Return of the Primitive', 'Author': ' Ayn Rand', 'Genre': 'philosophy', 'SubGenre': 'objectivism', 'Publisher': 'Penguin', 'Available': 'Yes', 'Reserved': 'No', 'ReservedID': []}, '41': {'Title': 'Jurassic Park', 'Author': ' Michael Crichton', 'Genre': 'fiction', 'SubGenre': 'novel', 'Publisher': 'Random House', 'Available': 'Yes', 'Reserved': 'No', 'ReservedID': []}, '42': {'Title': ' A Russian Journal', 'Author': ' John Steinbeck', 'Genre': 'nonfiction', 'SubGenre': 'history', 'Publisher': 'Penguin', 'Available': 'Yes', 'Reserved': 'No', 'ReservedID': []}, '43': {'Title': 'Tales of Mystery and Imagination', 'Author': ' Edgar Allen Poe', 'Genre': 'fiction', 'SubGenre': 'classic', 'Publisher': 'HarperCollins', 'Available': 'Yes', 'Reserved': 'No', 'ReservedID': []}, '44': {'Title': 'Freakonomics', 'Author': ' Stephen Dubner', 'Genre': 'science', 'SubGenre': 'economics', 'Publisher': 'Penguin', 'Available': 'Yes', 'Reserved': 'No', 'ReservedID': []}, '45': {'Title': ' The Hidden Connections', 'Author': ' Fritjof Capra', 'Genre': 'science', 'SubGenre': 'physics', 'Publisher': 'HarperCollins', 'Available': 'Yes', 'Reserved': 'No', 'ReservedID': []}, '46': {'Title': ' The Story of Philosophy', 'Author': ' Will Durant', 'Genre': 'philosophy', 'SubGenre': 'history', 'Publisher': 'Pocket', 'Available': 'Yes', 'Reserved': 'No', 'ReservedID': []}, '47': {'Title': 'Asami Asami', 'Author': ' P L Deshpande', 'Genre': 'fiction', 'SubGenre': 'novel', 'Publisher': 'Mauj', 'Available': 'Yes', 'Reserved': 'No', 'ReservedID': []}, '48': {'Title': 'Journal of a Novel', 'Author': ' John Steinbeck', 'Genre': 'fiction', 'SubGenre': 'classic', 'Publisher': 'Penguin', 'Available': 'Yes', 'Reserved': 'No', 'ReservedID': []}, '49': {'Title': 'Once There Was a War', 'Author': ' John Steinbeck', 'Genre': 'nonfiction', 'SubGenre': 'history', 'Publisher': 'Penguin', 'Available': 'Yes', 'Reserved': 'No', 'ReservedID': []}, '50': {'Title': ' The Moon is Down', 'Author': ' John Steinbeck', 'Genre': 'fiction', 'SubGenre': 'classic', 'Publisher': 'Penguin', 'Available': 'Yes', 'Reserved': 'No', 'ReservedID': []}, '51': {'Title': ' The Brethren', 'Author': ' John Grisham', 'Genre': 'fiction', 'SubGenre': 'novel', 'Publisher': 'Random House', 'Available': 'Yes', 'Reserved': 'No', 'ReservedID': []}, '52': {'Title': 'In a Free State', 'Author': ' V. S. Naipaul', 'Genre': 'fiction', 'SubGenre': 'novel', 'Publisher': 'Rupa', 'Available': 'Yes', 'Reserved': 'No', 'ReservedID': []}, '53': {'Title': 'Catch 22', 'Author': ' Joseph Heller', 'Genre': 'fiction', 'SubGenre': 'classic', 'Publisher': 'Random House', 'Available': 'Yes', 'Reserved': 'No', 'ReservedID': []}, '54': {'Title': ' The Complete Mastermind', 'Author': 'BBC', 'Genre': 'nonfiction', 'SubGenre': 'trivia', 'Publisher': 'BBC', 'Available': 'Yes', 'Reserved': 'No', 'ReservedID': []}, '55': {'Title': 'Dylan on Dylan', 'Author': ' Bob Dylan', 'Genre': 'nonfiction', 'SubGenre': 'autobiography', 'Publisher': 'Random House', 'Available': 'Yes', 'Reserved': 'No', 'ReservedID': []}, '56': {'Title': 'Soft Computing & Intelligent Systems', 'Author': ' Madan Gupta', 'Genre': 'tech', 'SubGenre': 'data_science', 'Publisher': 'Elsevier', 'Available': 'Yes', 'Reserved': 'No', 'ReservedID': []}, '57': {'Title': 'Textbook of Economic Theory', 'Author': ' Alfred Stonier', 'Genre': 'tech', 'SubGenre': 'economics', 'Publisher': 'Pearson', 'Available': 'Yes', 'Reserved': 'No', 'ReservedID': []}, '58': {'Title': 'Econometric Analysis', 'Author': ' W. H. Greene', 'Genre': 'tech', 'SubGenre': 'economics', 'Publisher': 'Pearson', 'Available': 'Yes', 'Reserved': 'No', 'ReservedID': []}, '59': {'Title': 'Learning OpenCV', 'Author': ' Gary Bradsky', 'Genre': 'tech', 'SubGenre': 'signal_processing', 'Publisher': \"O'Reilly\", 'Available': 'Yes', 'Reserved': 'No', 'ReservedID': []}, '60': {'Title': 'Data Structures Using C & C++', 'Author': ' Andrew Tanenbaum', 'Genre': 'tech', 'SubGenre': 'computer_science', 'Publisher': 'Prentice Hall', 'Available': 'Yes', 'Reserved': 'No', 'ReservedID': []}, '61': {'Title': ' A Modern Approach Computer Vision', 'Author': ' David Forsyth', 'Genre': 'tech', 'SubGenre': 'signal_processing', 'Publisher': 'Pearson', 'Available': 'Yes', 'Reserved': 'No', 'ReservedID': []}, '62': {'Title': 'Principles of Communication Systems', 'Author': ' Schilling Taub', 'Genre': 'tech', 'SubGenre': 'signal_processing', 'Publisher': 'TMH', 'Available': 'Yes', 'Reserved': 'No', 'ReservedID': []}, '63': {'Title': 'Let Us C', 'Author': ' Yashwant Kanetkar', 'Genre': 'tech', 'SubGenre': 'computer_science', 'Publisher': 'Prentice Hall', 'Available': 'Yes', 'Reserved': 'No', 'ReservedID': []}, '64': {'Title': ' The Amulet of Samarkand', 'Author': ' Jonathan Stroud', 'Genre': 'fiction', 'SubGenre': 'novel', 'Publisher': 'Random House', 'Available': 'Yes', 'Reserved': 'No', 'ReservedID': []}, '65': {'Title': 'Crime and Punishment', 'Author': ' Fyodor Dostoevsky', 'Genre': 'fiction', 'SubGenre': 'classic', 'Publisher': 'Penguin', 'Available': 'Yes', 'Reserved': 'No', 'ReservedID': []}, '66': {'Title': 'Angels & Demons', 'Author': ' Dan Brown', 'Genre': 'fiction', 'SubGenre': 'novel', 'Publisher': 'Random House', 'Available': 'Yes', 'Reserved': 'No', 'ReservedID': []}, '67': {'Title': ' The Argumentative Indian', 'Author': ' Amartya Sen', 'Genre': 'nonfiction', 'SubGenre': 'history', 'Publisher': 'Picador', 'Available': 'Yes', 'Reserved': 'No', 'ReservedID': []}, '68': {'Title': 'Sea of Poppies', 'Author': ' Amitav Ghosh', 'Genre': 'fiction', 'SubGenre': 'novel', 'Publisher': 'Penguin', 'Available': 'Yes', 'Reserved': 'No', 'ReservedID': []}, '69': {'Title': ' The Idea of Justice', 'Author': ' Amartya Sen', 'Genre': 'philosophy', 'SubGenre': 'economics', 'Publisher': 'Penguin', 'Available': 'Yes', 'Reserved': 'No', 'ReservedID': []}, '70': {'Title': ' A Raisin in the Sun', 'Author': ' Lorraine Hansberry', 'Genre': 'fiction', 'SubGenre': 'novel', 'Publisher': 'Penguin', 'Available': 'Yes', 'Reserved': 'No', 'ReservedID': []}, '71': {'Title': \"All the President's Men\", 'Author': ' Bob Woodward', 'Genre': 'nonfiction', 'SubGenre': 'history', 'Publisher': 'Random House', 'Available': 'Yes', 'Reserved': 'No', 'ReservedID': []}, '72': {'Title': ' A Prisoner of Birth', 'Author': ' Jeffery Archer', 'Genre': 'fiction', 'SubGenre': 'novel', 'Publisher': 'Pan', 'Available': 'Yes', 'Reserved': 'No', 'ReservedID': []}, '73': {'Title': 'Scoop!', 'Author': ' Kuldip Nayar', 'Genre': 'nonfiction', 'SubGenre': 'history', 'Publisher': 'HarperCollins', 'Available': 'Yes', 'Reserved': 'No', 'ReservedID': []}, '74': {'Title': 'Ahe Manohar Tari', 'Author': ' Sunita Deshpande', 'Genre': 'nonfiction', 'SubGenre': 'autobiography', 'Publisher': 'Mauj', 'Available': 'Yes', 'Reserved': 'No', 'ReservedID': []}, '75': {'Title': ' The Last Mughal', 'Author': ' William Dalrymple', 'Genre': 'nonfiction', 'SubGenre': 'history', 'Publisher': 'Penguin', 'Available': 'Yes', 'Reserved': 'No', 'ReservedID': []}, '76': {'Title': ' Vol 39 No. 1 Social Choice & Welfare', 'Author': 'Various', 'Genre': 'tech', 'SubGenre': 'economics', 'Publisher': 'Springer', 'Available': 'Yes', 'Reserved': 'No', 'ReservedID': []}, '77': {'Title': 'Radiowaril Bhashane & Shrutika', 'Author': ' P L Deshpande', 'Genre': 'nonfiction', 'SubGenre': 'misc', 'Publisher': 'Mauj', 'Available': 'Yes', 'Reserved': 'No', 'ReservedID': []}, '78': {'Title': 'Gun Gayin Awadi', 'Author': ' P L Deshpande', 'Genre': 'nonfiction', 'SubGenre': 'misc', 'Publisher': 'Mauj', 'Available': 'Yes', 'Reserved': 'No', 'ReservedID': []}, '79': {'Title': 'Aghal Paghal', 'Author': ' P L Deshpande', 'Genre': 'nonfiction', 'SubGenre': 'misc', 'Publisher': 'Mauj', 'Available': 'Yes', 'Reserved': 'No', 'ReservedID': []}, '80': {'Title': 'Maqta-e-Ghalib', 'Author': ' Sanjay Garg', 'Genre': 'nonfiction', 'SubGenre': 'poetry', 'Publisher': 'Mauj', 'Available': 'Yes', 'Reserved': 'No', 'ReservedID': []}, '81': {'Title': 'Beyond Degrees', 'Author': 'Unknown', 'Genre': 'philosophy', 'SubGenre': 'education', 'Publisher': 'HarperCollins', 'Available': 'Yes', 'Reserved': 'No', 'ReservedID': []}, '82': {'Title': 'Manasa', 'Author': ' V P Kale', 'Genre': 'nonfiction', 'SubGenre': 'misc', 'Publisher': 'Mauj', 'Available': 'Yes', 'Reserved': 'No', 'ReservedID': []}, '83': {'Title': 'India from Midnight to Milennium', 'Author': ' Shashi Tharoor', 'Genre': 'nonfiction', 'SubGenre': 'history', 'Publisher': 'Penguin', 'Available': 'Yes', 'Reserved': 'No', 'ReservedID': []}, '84': {'Title': \" The World's Greatest Trials\", 'Author': 'Unknown', 'Genre': 'nonfiction', 'SubGenre': 'history', 'Publisher': '', 'Available': 'Yes', 'Reserved': 'No', 'ReservedID': []}, '85': {'Title': ' The Great Indian Novel', 'Author': ' Shashi Tharoor', 'Genre': 'fiction', 'SubGenre': 'novel', 'Publisher': 'Penguin', 'Available': 'Yes', 'Reserved': 'No', 'ReservedID': []}, '86': {'Title': 'O Jerusalem!', 'Author': ' Dominique Lapierre', 'Genre': 'nonfiction', 'SubGenre': 'history', 'Publisher': 'vikas', 'Available': 'Yes', 'Reserved': 'No', 'ReservedID': []}, '87': {'Title': ' The City of Joy', 'Author': ' Dominique Lapierre', 'Genre': 'fiction', 'SubGenre': 'novel', 'Publisher': 'vikas', 'Available': 'Yes', 'Reserved': 'No', 'ReservedID': []}, '88': {'Title': 'Freedom at Midnight', 'Author': ' Dominique Lapierre', 'Genre': 'nonfiction', 'SubGenre': 'history', 'Publisher': 'vikas', 'Available': 'Yes', 'Reserved': 'No', 'ReservedID': []}, '89': {'Title': ' The Winter of Our Discontent', 'Author': ' John Steinbeck', 'Genre': 'fiction', 'SubGenre': 'classic', 'Publisher': 'Penguin', 'Available': 'Yes', 'Reserved': 'No', 'ReservedID': []}, '90': {'Title': 'On Education', 'Author': ' Bertrand Russell', 'Genre': 'philosophy', 'SubGenre': 'education', 'Publisher': 'Routledge', 'Available': 'Yes', 'Reserved': 'No', 'ReservedID': []}, '91': {'Title': 'Free Will', 'Author': ' Sam Harris', 'Genre': 'nonfiction', 'SubGenre': 'psychology', 'Publisher': 'FreePress', 'Available': 'Yes', 'Reserved': 'No', 'ReservedID': []}, '92': {'Title': 'Bookless in Baghdad', 'Author': ' Shashi Tharoor', 'Genre': 'nonfiction', 'SubGenre': 'history', 'Publisher': 'Penguin', 'Available': 'Yes', 'Reserved': 'No', 'ReservedID': []}, '93': {'Title': ' The Case of the Lame Canary', 'Author': ' Earle Stanley Gardner', 'Genre': 'fiction', 'SubGenre': 'novel', 'Publisher': '', 'Available': 'Yes', 'Reserved': 'No', 'ReservedID': []}, '94': {'Title': ' The Theory of Everything', 'Author': ' Stephen Hawking', 'Genre': 'science', 'SubGenre': 'physics', 'Publisher': 'Jaico', 'Available': 'Yes', 'Reserved': 'No', 'ReservedID': []}, '95': {'Title': 'New Markets & Other Essays', 'Author': ' Peter Drucker', 'Genre': 'science', 'SubGenre': 'economics', 'Publisher': 'Penguin', 'Available': 'Yes', 'Reserved': 'No', 'ReservedID': []}, '96': {'Title': 'Electric Universe', 'Author': ' David Bodanis', 'Genre': 'science', 'SubGenre': 'physics', 'Publisher': 'Penguin', 'Available': 'Yes', 'Reserved': 'No', 'ReservedID': []}, '97': {'Title': ' The Hunchback of Notre Dame', 'Author': ' Victor Hugo', 'Genre': 'fiction', 'SubGenre': 'classic', 'Publisher': 'Random House', 'Available': 'Yes', 'Reserved': 'No', 'ReservedID': []}, '98': {'Title': 'Burning Bright', 'Author': ' John Steinbeck', 'Genre': 'fiction', 'SubGenre': 'classic', 'Publisher': 'Penguin', 'Available': 'Yes', 'Reserved': 'No', 'ReservedID': []}, '99': {'Title': ' The Age of Discontuinity', 'Author': ' Peter Drucker', 'Genre': 'nonfiction', 'SubGenre': 'economics', 'Publisher': 'Random House', 'Available': 'Yes', 'Reserved': 'No', 'ReservedID': []}, '100': {'Title': 'Doctor in the Nude', 'Author': ' Richard Gordon', 'Genre': 'fiction', 'SubGenre': 'novel', 'Publisher': 'Penguin', 'Available': 'Yes', 'Reserved': 'No', 'ReservedID': []}, '101': {'Title': 'Down and Out in Paris & London', 'Author': ' George Orwell', 'Genre': 'nonfiction', 'SubGenre': 'autobiography', 'Publisher': 'Penguin', 'Available': 'Yes', 'Reserved': 'No', 'ReservedID': []}, '102': {'Title': 'Identity & Violence', 'Author': ' Amartya Sen', 'Genre': 'philosophy', 'SubGenre': 'philosophy', 'Publisher': 'Penguin', 'Available': 'Yes', 'Reserved': 'No', 'ReservedID': []}, '103': {'Title': 'Beyond the Three Seas', 'Author': ' William Dalrymple', 'Genre': 'nonfiction', 'SubGenre': 'history', 'Publisher': 'Random House', 'Available': 'Yes', 'Reserved': 'No', 'ReservedID': []}, '104': {'Title': \" The World's Greatest Short Stories\", 'Author': 'Unknown', 'Genre': 'fiction', 'SubGenre': 'classic', 'Publisher': 'Jaico', 'Available': 'Yes', 'Reserved': 'No', 'ReservedID': []}, '105': {'Title': 'Talking Straight', 'Author': ' Lee Iacoca', 'Genre': 'nonfiction', 'SubGenre': 'autobiography', 'Publisher': '', 'Available': 'Yes', 'Reserved': 'No', 'ReservedID': []}, '106': {'Title': \" Vol 3 Maugham's Collected Short Stories\", 'Author': ' William S Maugham', 'Genre': 'fiction', 'SubGenre': 'classic', 'Publisher': 'Vintage', 'Available': 'Yes', 'Reserved': 'No', 'ReservedID': []}, '107': {'Title': ' The Phantom of Manhattan', 'Author': ' Frederick Forsyth', 'Genre': 'fiction', 'SubGenre': 'classic', 'Publisher': '', 'Available': 'Yes', 'Reserved': 'No', 'ReservedID': []}, '108': {'Title': 'Ashenden of The British Agent', 'Author': ' William S Maugham', 'Genre': 'fiction', 'SubGenre': 'classic', 'Publisher': 'Vintage', 'Available': 'Yes', 'Reserved': 'No', 'ReservedID': []}, '109': {'Title': 'Zen & The Art of Motorcycle Maintenance', 'Author': ' Robert Pirsig', 'Genre': 'philosophy', 'SubGenre': 'autobiography', 'Publisher': 'Vintage', 'Available': 'Yes', 'Reserved': 'No', 'ReservedID': []}, '110': {'Title': ' The Great War for Civilization', 'Author': ' Robert Fisk', 'Genre': 'nonfiction', 'SubGenre': 'history', 'Publisher': 'HarperCollins', 'Available': 'Yes', 'Reserved': 'No', 'ReservedID': []}, '111': {'Title': 'We the Living', 'Author': ' Ayn Rand', 'Genre': 'fiction', 'SubGenre': 'novel', 'Publisher': 'Penguin', 'Available': 'Yes', 'Reserved': 'No', 'ReservedID': []}, '112': {'Title': ' The Artist and the Mathematician', 'Author': ' Amir Aczel', 'Genre': 'science', 'SubGenre': 'mathematics', 'Publisher': 'HighStakes', 'Available': 'Yes', 'Reserved': 'No', 'ReservedID': []}, '113': {'Title': 'History of Western Philosophy', 'Author': ' Bertrand Russell', 'Genre': 'philosophy', 'SubGenre': 'philosophy', 'Publisher': 'Routledge', 'Available': 'Yes', 'Reserved': 'No', 'ReservedID': []}, '114': {'Title': 'Selected Short Stories', 'Author': 'Unknown', 'Genre': 'fiction', 'SubGenre': 'classic', 'Publisher': 'Jaico', 'Available': 'Yes', 'Reserved': 'No', 'ReservedID': []}, '115': {'Title': 'Rationality & Freedom', 'Author': ' Amartya Sen', 'Genre': 'science', 'SubGenre': 'economics', 'Publisher': 'Springer', 'Available': 'Yes', 'Reserved': 'No', 'ReservedID': []}, '116': {'Title': 'Clash of Civilizations and Remaking of the World Order', 'Author': ' Samuel Huntington', 'Genre': 'nonfiction', 'SubGenre': 'history', 'Publisher': 'Simon&Schuster', 'Available': 'Yes', 'Reserved': 'No', 'ReservedID': []}, '117': {'Title': 'Uncommon Wisdom', 'Author': ' Fritjof Capra', 'Genre': 'nonfiction', 'SubGenre': 'anthology', 'Publisher': 'Fontana', 'Available': 'Yes', 'Reserved': 'No', 'ReservedID': []}, '118': {'Title': 'One', 'Author': ' Richard Bach', 'Genre': 'nonfiction', 'SubGenre': 'autobiography', 'Publisher': 'Dell', 'Available': 'Yes', 'Reserved': 'No', 'ReservedID': []}, '119': {'Title': 'Karl Marx Biography', 'Author': 'Unknown', 'Genre': 'nonfiction', 'SubGenre': 'autobiography', 'Publisher': '', 'Available': 'Yes', 'Reserved': 'No', 'ReservedID': []}, '120': {'Title': 'To Sir With Love', 'Author': 'Braithwaite', 'Genre': 'fiction', 'SubGenre': 'classic', 'Publisher': 'Penguin', 'Available': 'Yes', 'Reserved': 'No', 'ReservedID': []}}\n"
     ]
    }
   ],
   "source": [
    "def format_name(name):\n",
    "\n",
    "    #split where the name has a comma\n",
    "    if (',' in name) and ('-'not in name):\n",
    "        split_ID = name.split(',')\n",
    "        first = split_ID[0]\n",
    "        second = split_ID[1]\n",
    "        return second + ' ' + first\n",
    "    #split where the name has a comma and hyphen\n",
    "    elif(',' in name) and ('-' in name):\n",
    "        split_hyphen = name.split('-')\n",
    "        first0 = split_hyphen[0]\n",
    "        part_3 = split_hyphen[1]\n",
    "        split_comma = first0.split(',')\n",
    "        part_2 = split_comma[0]\n",
    "        part_1 = split_comma[1]\n",
    "        return part_1 + part_2 + part_3\n",
    "    #Rename as unknown is name is missing\n",
    "    elif len(name) == 0:\n",
    "        name = 'Unknown'\n",
    "        return name\n",
    "    #otherwise no edits needed\n",
    "    elif len(name) > 0:\n",
    "        return name\n",
    "    \n",
    "import csv\n",
    "#try:\n",
    "with open('books.csv', mode = 'r', encoding = 'utf-8-sig') as file:\n",
    "    csv_file = csv.reader(file)\n",
    "    #set up counter, empty dictionary to list data and\n",
    "    rowCount=0\n",
    "    books_dictionary={}\n",
    "    books_list=[]\n",
    "    for row in csv_file:\n",
    "        if rowCount == 0:\n",
    "            #Capture the row names for use in the dictionary\n",
    "            rowCount += 1\n",
    "            name0 = row[0]\n",
    "            name1 = row[1]\n",
    "            name2 = row[2]\n",
    "            name3 = row[3]\n",
    "            name4 = row[4]\n",
    "            name5 = row[5]\n",
    "        else:\n",
    "            #Add a new row to the dictionary and increase the counter\n",
    "            #ReservedID has been set up as a list as multiple members\n",
    "            books_list += [row[0]]\n",
    "            books_dictionary[row[0]] = {name1:format_name(row[1]), name2:format_name(row[2]),name3:row[3], \n",
    "                                        name4:row[4],name5:row[5], 'Available':'Yes', 'Reserved':'No', 'ReservedID':[]}\n",
    "            rowCount +=1\n",
    "\n",
    "#except:\n",
    "    print('ERROR: There was a problem creating the books dictionary')\n",
    "    print('Switch off the try-except block to understand more about the error')\n",
    "\n",
    "\"\"\"The line of code below can be used to test the if it has worked\"\"\"\n",
    "\n",
    "print(books_dictionary)"
   ]
  },
  {
   "cell_type": "markdown",
   "metadata": {},
   "source": [
    "In the cell below I create a dictionary from the bookloans.csv so I can use that data for the assigment. I also change the epoch date to standard format. This is so the dates in the json file, that I will create from this data, will have a more humanly accesible presentation."
   ]
  },
  {
   "cell_type": "code",
   "execution_count": 13,
   "metadata": {
    "scrolled": true
   },
   "outputs": [
    {
     "name": "stdout",
     "output_type": "stream",
     "text": [
      "{'Title': 'Superfreakonomics', 'Author': ' Stephen Dubner', 'Genre': 'science', 'SubGenre': 'economics', 'Publisher': 'HarperCollins', 'Available': 'Yes', 'Reserved': 'No', 'ReservedID': []}\n"
     ]
    }
   ],
   "source": [
    "import datetime #This imports the a Python module to help with time conversion and related functions\n",
    "\n",
    "def format_date(refDate, value):\n",
    "    \"\"\"Here a function has been created, taking a reference date and our date as arguments. The function converts (value) into our chosen format (refDate). \n",
    "    The input values will be the epoch dates on the bookloans.csv file\"\"\"\n",
    "    refDate='1900-01-01'\n",
    "    formatRef=datetime.datetime.strptime(refDate, '%Y-%m-%d')\n",
    "    #This part of the function converts epoch dates into our desired format - YYYY/MM/DD\n",
    "    newDate=(formatRef+datetime.timedelta(days=int(value))).strftime('%Y-%m-%d')\n",
    "    #This takes the converted format and will apply to our input data. Here we define that we will be inputting integers that need to be converted into dates \n",
    "    return newDate\n",
    "    #This returns our converted date\n",
    "\n",
    "\n",
    "\n",
    "import csv\n",
    "try:\n",
    "    with open('bookloans.csv',mode='r',encoding='utf-8') as file:\n",
    "        csvFile=csv.reader(file)\n",
    "     # opening the file to read\n",
    "        rowCount=0\n",
    "        loan_dictionary={}\n",
    "        for row in csvFile:\n",
    "            if row[0] in books_list:\n",
    "                rowCount+=1\n",
    "                \n",
    "                if row[3] != '0':\n",
    "                    #excluding the value and number 0 from our list as it means the book hasn't been returned \n",
    "                    return_date=[format_date('1900-01-01',row[3])]\n",
    "                    #converting all of the numbers in row 3 to the desired date format\n",
    "                    borrow_duration=[int(row[3])-int(row[2])]\n",
    "                    #defining the new list values as the difference between the 2 date rows\n",
    "              \n",
    "                    \n",
    "                else:\n",
    "                    return_date+=['NIL']\n",
    "                    #0 and non number values will be disregarded in this list, tidies the data\n",
    "                    borrow_duration+=['NIL']\n",
    "                    #0 and non number values will be disregarded in this list by being marked as 'NIL'\n",
    "                    books_dictionary[row[0]]['Avaliable']='No'\n",
    "                    \n",
    "                loan_dictionary[rowCount]={'BookID':row[0], 'MemberID':row[1], 'Loan Date':format_date('1900-01-01',row[2]), 'Return Date':return_date, 'Loan Duration':borrow_duration}\n",
    "                \n",
    "except:\n",
    "    print('error')\n",
    "         \n",
    "        \n",
    "        \n",
    "\n",
    "\n",
    "\"\"\"The lines of code below can be used to test the if it has worked. The second line allows you to select individual books\"\"\" \n",
    "\n",
    "#print(loan_dictionary)\n",
    "print(books_dictionary[str(4)])\n"
   ]
  },
  {
   "cell_type": "markdown",
   "metadata": {},
   "source": [
    "In the cell below I have created a dictionary from the members.csv file."
   ]
  },
  {
   "cell_type": "code",
   "execution_count": 15,
   "metadata": {},
   "outputs": [],
   "source": [
    "import csv\n",
    "\n",
    "with open('members.csv',mode='r',encoding='utf-8') as file:\n",
    "        csvFile=csv.reader(file)\n",
    "     # opening the file to read\n",
    "        rowCount=0\n",
    "        members_dictionary={}\n",
    "        for row in csvFile:\n",
    "            if rowCount == 0:\n",
    "                #Capture the row names for use in the dictionary\n",
    "                rowCount += 1\n",
    "                name0 = row[0]\n",
    "                name1 = row[1]\n",
    "                name2 = row[2]\n",
    "                name3 = row[3]\n",
    "                name4 = row[4]\n",
    "                name5 = row[5]\n",
    "            else:\n",
    "            \n",
    "                members_dictionary[row[0]]= {name1:row[1], name2:row[2],'Name':(row[1]+' '+row[2]), name3:row[3], name4:row[4], name5:row[5]}\n",
    "                rowCount += 1\n",
    "\n",
    "\n",
    "#The line of code below can be used to test the if it has worked\n",
    "\n",
    "#print(members_dictionary)"
   ]
  },
  {
   "cell_type": "markdown",
   "metadata": {},
   "source": [
    "In the cell below I create the json files required for this task. The data written to these json files is from the dictionaries I created in the previous cells from the csv files provided"
   ]
  },
  {
   "cell_type": "code",
   "execution_count": 7,
   "metadata": {},
   "outputs": [
    {
     "name": "stdout",
     "output_type": "stream",
     "text": [
      "books.json file saved\n",
      "bookloans.json file saved\n",
      "members.json file saved\n"
     ]
    }
   ],
   "source": [
    "import json\n",
    "\n",
    "try:\n",
    "    with open('books.json','w')as m:\n",
    "        json.dump(books_dictionary,m)\n",
    "        print('books.json file saved')\n",
    "    with open('bookloans.json','w')as m:\n",
    "        json.dump(loan_dictionary,m)\n",
    "        print('bookloans.json file saved')\n",
    "    with open('members.json','w')as m:\n",
    "        json.dump(members_dictionary,m)\n",
    "        print('members.json file saved')\n",
    "        \n",
    "except:\n",
    "    print('There was an error saving the files')\n",
    "\n"
   ]
  },
  {
   "cell_type": "markdown",
   "metadata": {},
   "source": [
    "In the cell below I have written code that loads the newly created json files for use. I have assigned the json files to simple variables for ease of use when writing code for the assignment. "
   ]
  },
  {
   "cell_type": "code",
   "execution_count": 8,
   "metadata": {},
   "outputs": [
    {
     "name": "stdout",
     "output_type": "stream",
     "text": [
      "books.json file loaded\n",
      "bookloans.json file loaded\n",
      "members.json file loaded\n"
     ]
    }
   ],
   "source": [
    "import json\n",
    "\n",
    "\n",
    "def load_json(file):\n",
    "    #load books\n",
    "    f = open(file)\n",
    "    file = json.load(f)\n",
    "    f.close()\n",
    "    return file\n",
    "\n",
    "#load the dictionaries\n",
    "\n",
    "\n",
    "books = load_json('books.json')\n",
    "print('books.json file loaded')\n",
    "loans = load_json('bookloans.json')\n",
    "print('bookloans.json file loaded')\n",
    "members = load_json('members.json')\n",
    "print('members.json file loaded')\n"
   ]
  },
  {
   "cell_type": "markdown",
   "metadata": {},
   "source": [
    "In the below cell the **scan()** method has been created for the **Book** class. At the bottom of the following code cell you can see the fuctionality being tested."
   ]
  },
  {
   "cell_type": "code",
   "execution_count": 9,
   "metadata": {
    "scrolled": true
   },
   "outputs": [
    {
     "name": "stdout",
     "output_type": "stream",
     "text": [
      "4\n",
      "{'Title': 'Superfreakonomics', 'Author': ' Stephen Dubner', 'Genre': 'science', 'SubGenre': 'economics', 'Publisher': 'HarperCollins', 'Available': 'Yes', 'Reserved': 'No', 'ReservedID': []}\n",
      "{'Title': ' The Nature of Statistical Learning Theory', 'Author': ' Vladimir Vapnik', 'Genre': 'tech', 'SubGenre': 'data_science', 'Publisher': 'Springer', 'Available': 'Yes', 'Reserved': 'No', 'ReservedID': [], 'Avaliable': 'No'}\n"
     ]
    }
   ],
   "source": [
    "class Book(object):\n",
    "    \n",
    "    def scan(title):\n",
    "        \"\"\"This is a method that searches the books dictionary and finds the associated keys for use in later functions\n",
    "        Pre Conditions: Assumes there is a dictionary called books that can be searched for particular keys\n",
    "        Post Conditions: Returns all the information about those particular keys e.g 'BookID' or 'Availability'\"\"\"\n",
    "        \n",
    "        ID = [key for key in books if books[key]['Title']==title]\n",
    "        if len(ID) >=1:\n",
    "            return ID\n",
    "        elif len(ID)==0:\n",
    "            return print(title, 'was not found in the library!')\n",
    "\n",
    "\"\"\"The lines of code below can be used to test the if it has worked\"\"\"\n",
    "\n",
    "book_search=Book.scan('Superfreakonomics')\n",
    "print(book_search[0])\n",
    "print(books[book_search[0]])\n",
    "print(books['6'])"
   ]
  },
  {
   "cell_type": "markdown",
   "metadata": {},
   "source": [
    "In the below cell the **scan()** method has been created for the **Member** class. At the bottom of the following code cell you can see the fuctionality being tested."
   ]
  },
  {
   "cell_type": "code",
   "execution_count": 10,
   "metadata": {},
   "outputs": [
    {
     "name": "stdout",
     "output_type": "stream",
     "text": [
      "200\n",
      "{'First Name': 'Marcus', 'Last Name': 'Parker', 'Name': 'Marcus Parker', 'Gender': 'Male', 'Email': 'm.parker@randatmail.com', 'CardNumber': '2002'}\n",
      "{'First Name': 'Caroline', 'Last Name': 'Anderson', 'Name': 'Caroline Anderson', 'Gender': 'Female', 'Email': 'c.anderson@randatmail.com', 'CardNumber': '1991'}\n"
     ]
    }
   ],
   "source": [
    "class Member(object):\n",
    "    \n",
    "    def scan(name):\n",
    "        \"\"\"This is a method that searches the members dictionary and finds the associated keys for use in later functions\n",
    "        Pre Conditions: Assumes there is a dictionary called memberss that can be searched for particular keys\n",
    "        Post Conditions: Returns all the information about those particular keys e.g 'MemberID' or 'Name'\"\"\"\n",
    "        ID = [key for key in members if members[key]['Name'] == name]\n",
    "        if len(ID) >=1:\n",
    "            return ID\n",
    "        elif len(ID)==0:\n",
    "            return print(name, 'does not have a library account')\n",
    "\n",
    "\"\"\"The lines of code below can be used to test the if it has worked\"\"\"\n",
    "\n",
    "member_search = Member.scan('Marcus Parker')\n",
    "print(member_search[0])\n",
    "print(members[member_search[0]])\n",
    "print(members['199'])"
   ]
  },
  {
   "cell_type": "markdown",
   "metadata": {},
   "source": [
    "# Tasks 1,2,3,4,\n",
    "\n",
    "The cell below contains my answers to parts 1-4 of the assesment. Below I list which functions correspond to which assigment tasks.\n",
    "\n",
    "**Task 1 = def Borrow**<br>\n",
    "**Task 2 = def Return**<br>\n",
    "**Task 3 = def add_new_member**<br>\n",
    "**Task 4 = def Reserve**<br>\n",
    "\n",
    "<br>\n",
    "At the bottom of the cell are the tests that can be run to check the fuctionality works correctly. "
   ]
  },
  {
   "cell_type": "code",
   "execution_count": 12,
   "metadata": {},
   "outputs": [
    {
     "name": "stdout",
     "output_type": "stream",
     "text": [
      "You have borrowed Slaughterhouse Five\n",
      "Slaughterhouse Five was returned after: 0 days\n",
      "MemberID 201\n",
      "{'First Name': 'Paul', 'Last Name': 'Sobin', 'Name': 'Paul Sobin', 'Gender': 'Male', 'Email': 'jsobin@gmx.com', 'Card Number': 201}\n",
      "You have reserved Integration of the Indian States\n",
      "{'Title': 'Integration of the Indian States', 'Author': ' V P Menon', 'Genre': 'nonfiction', 'SubGenre': 'history', 'Publisher': 'Orient Blackswan', 'Available': 'No', 'Reserved': 'Yes', 'ReservedID': ['103']}\n"
     ]
    }
   ],
   "source": [
    "import datetime\n",
    "import json\n",
    "\n",
    "class Loan(Book,Member):\n",
    "    \"\"\"This class allows to members to Return, Borrow, Apply for Membership and Reserve Books.\n",
    "    Pre Conditions: The class inherits from both the book and member classes becuase it needs that data to input through the methods within it\"\"\"\n",
    "\n",
    "    def Borrow (name, title):\n",
    "        \"\"\"This method allows members to borrow a book from the library\n",
    "        Pre Conditions: The name of the member and title of the book ahve to be correctly input\n",
    "        Post Conditions: If the book is avaliable it will be issued and if it is reserved then you you will notfied. You will also be notfied if it is avaliable to be reserved. \n",
    "        'Available' will also be changed to no to signify that book is now on loan\"\"\"\n",
    "\n",
    "        BookID=Book.scan(title)[0]\n",
    "        MemberID=Member.scan(name)[0]\n",
    "        Status=books[BookID]['Available']\n",
    "        if Status == 'Yes':\n",
    "            if books[BookID]['Reserved']=='No':\n",
    "                date_today = datetime.datetime.now().strftime('%Y-%m-%d')\n",
    "                loans[len(loans)+1]={'BookID':BookID,'MemberID':MemberID,'Loan Date':date_today,'Return Date':'NIL','Loan Duration':'NIL'}\n",
    "                books[BookID]['Available']='No'\n",
    "                print('You have borrowed', title)\n",
    "\n",
    "            elif books[BookID]['Reserved']== 'Yes' and books[BookID]['ReservedID'][0]==MemberID:\n",
    "                date_today = datetime.datetime.now().strftime('%Y-%m-%d')\n",
    "                loans[len(loans)+1]={'BookID':BookID,'MemberID':MemberID,'Loan Date':date_today,'Return Date':'NIL','Loan Duration':'NIL'}\n",
    "                books[BookID]['Available']='No'\n",
    "                Loan.RemoveReservation(name,title)\n",
    "                if len(books[BookID]['ReservedID'])==0:\n",
    "                    books[BookID]['Rserved']='No'\n",
    "                print('You have borrowed',title)\n",
    "\n",
    "            elif books[BookID]['Reserved']== 'Yes' and MemberID in books[BookID]['ReservedID']:\n",
    "                 print(title, 'is not available at the moment. You have reserve it')\n",
    "\n",
    "            else:\n",
    "                print(title,'Is not available at the moment, you can reserve it')\n",
    "\n",
    "\n",
    "    def daysBorrowed(start_date,end_date):\n",
    "        \"\"\"Calculates the number of days between to dates.\n",
    "        Pre Conditions: Dates must be entered in the correct format 'YYYY-MM-DD'\n",
    "        Post Conditions: The difference is returned as an integer\"\"\"\n",
    "        start=datetime.datetime.strptime(start_date,'%Y-%m-%d')\n",
    "        end=datetime.datetime.strptime(end_date,'%Y-%m-%d')\n",
    "        return(end-start).days\n",
    "    \n",
    "    maxLoanLength=14\n",
    "\n",
    "    def Return(name,title):\n",
    "        \"\"\"Allows members to return books to the library\n",
    "        Pre Conditions: Member name and book title must be input correctly. The correct dictionaries must be there for the scan function to work.\n",
    "        Post Conditions: After scanning through the book and members file, the code looks through the loans file to see if there is a corresponding loan for that book and member.\n",
    "        It will then update the 'Available' as 'Yes' as well as returning loan duration and the date it was returned. If book was returned after 14 days then a message will be printed stating how many days late it was.\"\"\"\n",
    "\n",
    "        BookID=Book.scan(title)[0]\n",
    "        #print(BookID)\n",
    "        MemberID=Member.scan(name)[0]\n",
    "        #print(MemberID)\n",
    "        FindLoans=[key for key in loans if loans[key]['BookID']==str(BookID)and loans[key]['MemberID']==str(MemberID)][-1]\n",
    "        #print(FindLoans)\n",
    "        date_today = datetime.datetime.now().strftime('%Y-%m-%d')\n",
    "        loan_dates=loans[FindLoans]['Loan Date']\n",
    "        #print(loan_dates)\n",
    "        loan_duration=Loan.daysBorrowed(loan_dates,date_today)\n",
    "        maxLoanLength=14\n",
    "\n",
    "        loans[FindLoans]['Return Date']=date_today\n",
    "        loans[FindLoans]['Loan Duration']=loan_duration\n",
    "\n",
    "        if loan_duration > Loan.maxLoanLength:\n",
    "            print('You have returned',title,loan_duration - Loan.maxLoanLength,'days late')\n",
    "        else:\n",
    "            print(title, 'was returned after:',loan_duration, 'days')\n",
    "\n",
    "        books[BookID]['Available']='Yes'\n",
    "\n",
    "\n",
    "\n",
    "\n",
    "\n",
    "\n",
    "\n",
    "    def add_new_member(FirstName, LastName,Gender,Email):\n",
    "        \"\"\"Function to add a new member to the library\n",
    "        Pre Conditions: A list will be created to the members file with the details input by the user, such as their 'Name', 'Email', etc\n",
    "        Post Conditions: The new member will be added to the file and a number issued to them in line with conditions required\"\"\"\n",
    "\n",
    "        AddNew=[]\n",
    "        MemberID=len(members)+1\n",
    "        Name=FirstName+' '+LastName\n",
    "        members[MemberID]={'First Name':FirstName,'Last Name':LastName,'Name':Name,'Gender':Gender,'Email':Email,'Card Number':MemberID}\n",
    "\n",
    "        AddNew+=[str(MemberID)+'1']\n",
    "\n",
    "\n",
    "\n",
    "\n",
    "    def Reserve(name, title):\n",
    "        \"\"\"Method to for a member to reserve a book.\n",
    "        Pre Consditions: Must input the correct name of the member making the request and title of the book requested.\n",
    "        Post Conditions: In the books dictionary it changes the 'Reserved field to Yes', 'Available' to 'No' and appends the 'ReservedID' with the MemberID\"\"\"\n",
    "\n",
    "        BookID=Book.scan(title)[0]\n",
    "        MemberID=Member.scan(name)[0]\n",
    "        Status=books[BookID]['Available']\n",
    "        if Status == 'Yes':\n",
    "            if books[BookID]['Reserved']=='No':\n",
    "\n",
    "\n",
    "                books[BookID]['Reserved']='Yes'\n",
    "                books[BookID]['Available']='No'\n",
    "                books[BookID]['ReservedID']+=[str(MemberID)]\n",
    "                print('You have reserved', title)\n",
    "\n",
    "\n",
    "        else:\n",
    "            print('This book has already been reserved. We will notify you via email when it becomes available') \n",
    "            \n",
    "         \n",
    "\n",
    "\n",
    "\n",
    "\n",
    "\n",
    "\n",
    "\n",
    "\n",
    "\n",
    "             \n",
    "#The below lines of code can be used to test the 'Borrow' method. Delete the '#' before the each line then run the code.          \n",
    "        \n",
    "Loan.Borrow('Maddie Anderson','Slaughterhouse Five')\n",
    "#print(books[Book.scan('God Created the Integers')[0]])\n",
    "#print(loans[len(loans)])\n",
    "#print(loan_duration)\n",
    "\n",
    "\n",
    "#The below lines of code can be used to test the 'Return' method. Delete the '#' before the each line then run the code.  \n",
    "\n",
    "Loan.Return('Maddie Anderson','Slaughterhouse Five')\n",
    "#print(loans['1961'])\n",
    "#print(books['7'])\n",
    "\n",
    "\n",
    "#The below lines of code can be used to test the 'add_new_member' method. Delete the '#' before the each line then run the code.  \n",
    "\n",
    "Loan.add_new_member(FirstName='James',LastName='Sorin',Gender='Male',Email='jsorin@gmx.com')\n",
    "print('MemberID',len(members)-1)\n",
    "print(members[len(members)-1])\n",
    "\n",
    "\n",
    "#The below lines of code can be used to test the 'Reserve' method. Delete the '#' before the each line then run the code.  \n",
    "\n",
    "Loan.Reserve('Alen Murphy','Integration of the Indian States')\n",
    "print(books['7'])\n",
    "\n",
    "\n"
   ]
  },
  {
   "cell_type": "code",
   "execution_count": null,
   "metadata": {},
   "outputs": [],
   "source": []
  },
  {
   "cell_type": "code",
   "execution_count": null,
   "metadata": {},
   "outputs": [],
   "source": []
  },
  {
   "cell_type": "code",
   "execution_count": null,
   "metadata": {},
   "outputs": [],
   "source": []
  }
 ],
 "metadata": {
  "kernelspec": {
   "display_name": "Python 3",
   "language": "python",
   "name": "python3"
  },
  "language_info": {
   "codemirror_mode": {
    "name": "ipython",
    "version": 3
   },
   "file_extension": ".py",
   "mimetype": "text/x-python",
   "name": "python",
   "nbconvert_exporter": "python",
   "pygments_lexer": "ipython3",
   "version": "3.8.5"
  }
 },
 "nbformat": 4,
 "nbformat_minor": 4
}
